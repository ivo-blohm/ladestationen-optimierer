{
 "cells": [
  {
   "cell_type": "code",
   "execution_count": 1,
   "id": "ed5d38ce-f54b-4d7e-a995-bb0f0c7d04d6",
   "metadata": {},
   "outputs": [],
   "source": [
    "import pandas as pd\n",
    "import numpy as np\n",
    "import plotly.express as px"
   ]
  },
  {
   "cell_type": "code",
   "execution_count": 3,
   "id": "e2204dec-d48f-457f-b1f1-4e1af23884a9",
   "metadata": {},
   "outputs": [],
   "source": [
    "df = pd.read_csv('../Data/final_data.csv', index_col='Gemeindename')"
   ]
  },
  {
   "cell_type": "code",
   "execution_count": 28,
   "id": "8a35ffc8-a85b-4b03-97fb-dd45e61ea6e0",
   "metadata": {},
   "outputs": [
    {
     "ename": "ValueError",
     "evalue": "All arguments should have the same length. The length of column argument `df[y]` is 2147, whereas the length of  previously-processed arguments ['x'] is 27",
     "output_type": "error",
     "traceback": [
      "\u001b[0;31m---------------------------------------------------------------------------\u001b[0m",
      "\u001b[0;31mValueError\u001b[0m                                Traceback (most recent call last)",
      "\u001b[0;32m/var/folders/_l/26lpnk2d1rd4gfh2frwz6wpw0000gn/T/ipykernel_60002/2599073186.py\u001b[0m in \u001b[0;36m<module>\u001b[0;34m\u001b[0m\n\u001b[0;32m----> 1\u001b[0;31m \u001b[0mfig\u001b[0m \u001b[0;34m=\u001b[0m \u001b[0mpx\u001b[0m\u001b[0;34m.\u001b[0m\u001b[0mbar\u001b[0m\u001b[0;34m(\u001b[0m\u001b[0mdf\u001b[0m\u001b[0;34m,\u001b[0m \u001b[0mx\u001b[0m\u001b[0;34m=\u001b[0m\u001b[0mdf\u001b[0m\u001b[0;34m.\u001b[0m\u001b[0mloc\u001b[0m\u001b[0;34m[\u001b[0m\u001b[0;34m'Zürich'\u001b[0m\u001b[0;34m]\u001b[0m\u001b[0;34m,\u001b[0m \u001b[0my\u001b[0m\u001b[0;34m=\u001b[0m\u001b[0;34m'EV_Bestand_2021'\u001b[0m\u001b[0;34m)\u001b[0m\u001b[0;34m\u001b[0m\u001b[0;34m\u001b[0m\u001b[0m\n\u001b[0m\u001b[1;32m      2\u001b[0m \u001b[0mfig\u001b[0m\u001b[0;34m.\u001b[0m\u001b[0mshow\u001b[0m\u001b[0;34m(\u001b[0m\u001b[0;34m)\u001b[0m\u001b[0;34m\u001b[0m\u001b[0;34m\u001b[0m\u001b[0m\n",
      "\u001b[0;32m~/opt/anaconda3/lib/python3.9/site-packages/plotly/express/_chart_types.py\u001b[0m in \u001b[0;36mbar\u001b[0;34m(data_frame, x, y, color, pattern_shape, facet_row, facet_col, facet_col_wrap, facet_row_spacing, facet_col_spacing, hover_name, hover_data, custom_data, text, base, error_x, error_x_minus, error_y, error_y_minus, animation_frame, animation_group, category_orders, labels, color_discrete_sequence, color_discrete_map, color_continuous_scale, pattern_shape_sequence, pattern_shape_map, range_color, color_continuous_midpoint, opacity, orientation, barmode, log_x, log_y, range_x, range_y, text_auto, title, template, width, height)\u001b[0m\n\u001b[1;32m    371\u001b[0m     \u001b[0mmark\u001b[0m\u001b[0;34m.\u001b[0m\u001b[0;34m\u001b[0m\u001b[0;34m\u001b[0m\u001b[0m\n\u001b[1;32m    372\u001b[0m     \"\"\"\n\u001b[0;32m--> 373\u001b[0;31m     return make_figure(\n\u001b[0m\u001b[1;32m    374\u001b[0m         \u001b[0margs\u001b[0m\u001b[0;34m=\u001b[0m\u001b[0mlocals\u001b[0m\u001b[0;34m(\u001b[0m\u001b[0;34m)\u001b[0m\u001b[0;34m,\u001b[0m\u001b[0;34m\u001b[0m\u001b[0;34m\u001b[0m\u001b[0m\n\u001b[1;32m    375\u001b[0m         \u001b[0mconstructor\u001b[0m\u001b[0;34m=\u001b[0m\u001b[0mgo\u001b[0m\u001b[0;34m.\u001b[0m\u001b[0mBar\u001b[0m\u001b[0;34m,\u001b[0m\u001b[0;34m\u001b[0m\u001b[0;34m\u001b[0m\u001b[0m\n",
      "\u001b[0;32m~/opt/anaconda3/lib/python3.9/site-packages/plotly/express/_core.py\u001b[0m in \u001b[0;36mmake_figure\u001b[0;34m(args, constructor, trace_patch, layout_patch)\u001b[0m\n\u001b[1;32m   1988\u001b[0m     \u001b[0mapply_default_cascade\u001b[0m\u001b[0;34m(\u001b[0m\u001b[0margs\u001b[0m\u001b[0;34m)\u001b[0m\u001b[0;34m\u001b[0m\u001b[0;34m\u001b[0m\u001b[0m\n\u001b[1;32m   1989\u001b[0m \u001b[0;34m\u001b[0m\u001b[0m\n\u001b[0;32m-> 1990\u001b[0;31m     \u001b[0margs\u001b[0m \u001b[0;34m=\u001b[0m \u001b[0mbuild_dataframe\u001b[0m\u001b[0;34m(\u001b[0m\u001b[0margs\u001b[0m\u001b[0;34m,\u001b[0m \u001b[0mconstructor\u001b[0m\u001b[0;34m)\u001b[0m\u001b[0;34m\u001b[0m\u001b[0;34m\u001b[0m\u001b[0m\n\u001b[0m\u001b[1;32m   1991\u001b[0m     \u001b[0;32mif\u001b[0m \u001b[0mconstructor\u001b[0m \u001b[0;32min\u001b[0m \u001b[0;34m[\u001b[0m\u001b[0mgo\u001b[0m\u001b[0;34m.\u001b[0m\u001b[0mTreemap\u001b[0m\u001b[0;34m,\u001b[0m \u001b[0mgo\u001b[0m\u001b[0;34m.\u001b[0m\u001b[0mSunburst\u001b[0m\u001b[0;34m,\u001b[0m \u001b[0mgo\u001b[0m\u001b[0;34m.\u001b[0m\u001b[0mIcicle\u001b[0m\u001b[0;34m]\u001b[0m \u001b[0;32mand\u001b[0m \u001b[0margs\u001b[0m\u001b[0;34m[\u001b[0m\u001b[0;34m\"path\"\u001b[0m\u001b[0;34m]\u001b[0m \u001b[0;32mis\u001b[0m \u001b[0;32mnot\u001b[0m \u001b[0;32mNone\u001b[0m\u001b[0;34m:\u001b[0m\u001b[0;34m\u001b[0m\u001b[0;34m\u001b[0m\u001b[0m\n\u001b[1;32m   1992\u001b[0m         \u001b[0margs\u001b[0m \u001b[0;34m=\u001b[0m \u001b[0mprocess_dataframe_hierarchy\u001b[0m\u001b[0;34m(\u001b[0m\u001b[0margs\u001b[0m\u001b[0;34m)\u001b[0m\u001b[0;34m\u001b[0m\u001b[0;34m\u001b[0m\u001b[0m\n",
      "\u001b[0;32m~/opt/anaconda3/lib/python3.9/site-packages/plotly/express/_core.py\u001b[0m in \u001b[0;36mbuild_dataframe\u001b[0;34m(args, constructor)\u001b[0m\n\u001b[1;32m   1403\u001b[0m     \u001b[0;31m# now that things have been prepped, we do the systematic rewriting of `args`\u001b[0m\u001b[0;34m\u001b[0m\u001b[0;34m\u001b[0m\u001b[0m\n\u001b[1;32m   1404\u001b[0m \u001b[0;34m\u001b[0m\u001b[0m\n\u001b[0;32m-> 1405\u001b[0;31m     df_output, wide_id_vars = process_args_into_dataframe(\n\u001b[0m\u001b[1;32m   1406\u001b[0m         \u001b[0margs\u001b[0m\u001b[0;34m,\u001b[0m \u001b[0mwide_mode\u001b[0m\u001b[0;34m,\u001b[0m \u001b[0mvar_name\u001b[0m\u001b[0;34m,\u001b[0m \u001b[0mvalue_name\u001b[0m\u001b[0;34m\u001b[0m\u001b[0;34m\u001b[0m\u001b[0m\n\u001b[1;32m   1407\u001b[0m     )\n",
      "\u001b[0;32m~/opt/anaconda3/lib/python3.9/site-packages/plotly/express/_core.py\u001b[0m in \u001b[0;36mprocess_args_into_dataframe\u001b[0;34m(args, wide_mode, var_name, value_name)\u001b[0m\n\u001b[1;32m   1207\u001b[0m                         \u001b[0;32mraise\u001b[0m \u001b[0mValueError\u001b[0m\u001b[0;34m(\u001b[0m\u001b[0merr_msg\u001b[0m\u001b[0;34m)\u001b[0m\u001b[0;34m\u001b[0m\u001b[0;34m\u001b[0m\u001b[0m\n\u001b[1;32m   1208\u001b[0m                 \u001b[0;32melif\u001b[0m \u001b[0mlength\u001b[0m \u001b[0;32mand\u001b[0m \u001b[0mlen\u001b[0m\u001b[0;34m(\u001b[0m\u001b[0mdf_input\u001b[0m\u001b[0;34m[\u001b[0m\u001b[0margument\u001b[0m\u001b[0;34m]\u001b[0m\u001b[0;34m)\u001b[0m \u001b[0;34m!=\u001b[0m \u001b[0mlength\u001b[0m\u001b[0;34m:\u001b[0m\u001b[0;34m\u001b[0m\u001b[0;34m\u001b[0m\u001b[0m\n\u001b[0;32m-> 1209\u001b[0;31m                     raise ValueError(\n\u001b[0m\u001b[1;32m   1210\u001b[0m                         \u001b[0;34m\"All arguments should have the same length. \"\u001b[0m\u001b[0;34m\u001b[0m\u001b[0;34m\u001b[0m\u001b[0m\n\u001b[1;32m   1211\u001b[0m                         \u001b[0;34m\"The length of column argument `df[%s]` is %d, whereas the \"\u001b[0m\u001b[0;34m\u001b[0m\u001b[0;34m\u001b[0m\u001b[0m\n",
      "\u001b[0;31mValueError\u001b[0m: All arguments should have the same length. The length of column argument `df[y]` is 2147, whereas the length of  previously-processed arguments ['x'] is 27"
     ]
    }
   ],
   "source": [
    "fig = px.bar(df, x=df.loc['Zürich'], y=df['EV_Bestand_2021'])\n",
    "fig.show()"
   ]
  },
  {
   "cell_type": "code",
   "execution_count": 21,
   "id": "1e2a80d8-bf8f-4dc3-8ab4-07243605945c",
   "metadata": {},
   "outputs": [
    {
     "data": {
      "text/plain": [
       "BFS-Nr                                          261.000000\n",
       "EV_Bestand_2021                                3017.000000\n",
       "Strassenlänge(km)                               856.702422\n",
       "Anz_Einwohner                                420217.000000\n",
       "Einwohner_Veränderung_2010-2019                  12.701921\n",
       "Bevölkerungsdichte_pro_km2                     4778.994655\n",
       "Altersverteilung_0-19                            17.494295\n",
       "Altersverteilung_20-64                           67.748568\n",
       "Rohe_Geburtenziffer                              12.317134\n",
       "Rohe_Sterbeziffer                                 7.999196\n",
       "Durchschn_Haushaltsgrösse                         1.987882\n",
       "Gesamtfläche(km2)                                87.930000\n",
       "Siedlungsfläche                                  61.972472\n",
       "Landwirtschaftsfläche                            10.101240\n",
       "Wald&Gehölze                                     26.231373\n",
       "Beschäftigte_1_Sektor                           177.000000\n",
       "Beschäftigte_2_Sektor                         28606.000000\n",
       "Beschäftigte_3_Sektor                        462410.000000\n",
       "Leerwohnungsziffer                                0.148757\n",
       "Neu_gebaute_Wohnungen(pro_1000_Einwohner)         8.210321\n",
       "Sozialhilfequote                                  4.470000\n",
       "CO2-Gesetz_Ja-Anteil                             72.317871\n",
       "CO2-Gesetz_Stimmbeteiligung                      59.909323\n",
       "Gemeinde_Kategorie                                2.000000\n",
       "aktl_Ladestationen                              218.000000\n",
       "Ladestationen_optimiert                         149.000000\n",
       "Differenz                                       -69.000000\n",
       "Name: Zürich, dtype: float64"
      ]
     },
     "execution_count": 21,
     "metadata": {},
     "output_type": "execute_result"
    }
   ],
   "source": [
    "df.loc['Zürich']"
   ]
  },
  {
   "cell_type": "code",
   "execution_count": 12,
   "id": "416cc6f8-14d4-416e-bf99-d966424ed6c9",
   "metadata": {},
   "outputs": [
    {
     "data": {
      "text/plain": [
       "Index(['BFS-Nr', 'EV_Bestand_2021', 'Strassenlänge(km)', 'Anz_Einwohner',\n",
       "       'Einwohner_Veränderung_2010-2019', 'Bevölkerungsdichte_pro_km2',\n",
       "       'Altersverteilung_0-19', 'Altersverteilung_20-64',\n",
       "       'Rohe_Geburtenziffer', 'Rohe_Sterbeziffer', 'Durchschn_Haushaltsgrösse',\n",
       "       'Gesamtfläche(km2)', 'Siedlungsfläche', 'Landwirtschaftsfläche',\n",
       "       'Wald&Gehölze', 'Beschäftigte_1_Sektor', 'Beschäftigte_2_Sektor',\n",
       "       'Beschäftigte_3_Sektor', 'Leerwohnungsziffer',\n",
       "       'Neu_gebaute_Wohnungen(pro_1000_Einwohner)', 'Sozialhilfequote',\n",
       "       'CO2-Gesetz_Ja-Anteil', 'CO2-Gesetz_Stimmbeteiligung',\n",
       "       'Gemeinde_Kategorie', 'aktl_Ladestationen', 'Ladestationen_optimiert',\n",
       "       'Differenz'],\n",
       "      dtype='object')"
      ]
     },
     "execution_count": 12,
     "metadata": {},
     "output_type": "execute_result"
    }
   ],
   "source": [
    "df.columns"
   ]
  },
  {
   "cell_type": "code",
   "execution_count": 29,
   "id": "15280cd7-8f69-49a4-a8c7-4c50edbaea2c",
   "metadata": {},
   "outputs": [
    {
     "data": {
      "text/plain": [
       "Index(['BFS-Nr', 'EV_Bestand_2021', 'Strassenlänge(km)', 'Anz_Einwohner',\n",
       "       'Einwohner_Veränderung_2010-2019', 'Bevölkerungsdichte_pro_km2',\n",
       "       'Altersverteilung_0-19', 'Altersverteilung_20-64',\n",
       "       'Rohe_Geburtenziffer', 'Rohe_Sterbeziffer', 'Durchschn_Haushaltsgrösse',\n",
       "       'Gesamtfläche(km2)', 'Siedlungsfläche', 'Landwirtschaftsfläche',\n",
       "       'Wald&Gehölze', 'Beschäftigte_1_Sektor', 'Beschäftigte_2_Sektor',\n",
       "       'Beschäftigte_3_Sektor', 'Leerwohnungsziffer',\n",
       "       'Neu_gebaute_Wohnungen(pro_1000_Einwohner)', 'Sozialhilfequote',\n",
       "       'CO2-Gesetz_Ja-Anteil', 'CO2-Gesetz_Stimmbeteiligung',\n",
       "       'Gemeinde_Kategorie', 'aktl_Ladestationen', 'Ladestationen_optimiert',\n",
       "       'Differenz'],\n",
       "      dtype='object')"
      ]
     },
     "execution_count": 29,
     "metadata": {},
     "output_type": "execute_result"
    }
   ],
   "source": [
    "df.columns"
   ]
  },
  {
   "cell_type": "code",
   "execution_count": null,
   "id": "32d26adb-827e-4b83-857a-b06ab16cbeb2",
   "metadata": {},
   "outputs": [],
   "source": []
  }
 ],
 "metadata": {
  "kernelspec": {
   "display_name": "Python 3 (ipykernel)",
   "language": "python",
   "name": "python3"
  },
  "language_info": {
   "codemirror_mode": {
    "name": "ipython",
    "version": 3
   },
   "file_extension": ".py",
   "mimetype": "text/x-python",
   "name": "python",
   "nbconvert_exporter": "python",
   "pygments_lexer": "ipython3",
   "version": "3.9.7"
  }
 },
 "nbformat": 4,
 "nbformat_minor": 5
}
